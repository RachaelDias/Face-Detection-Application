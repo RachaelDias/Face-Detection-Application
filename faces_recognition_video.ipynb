{
 "cells": [
  {
   "cell_type": "code",
   "execution_count": 1,
   "metadata": {},
   "outputs": [],
   "source": [
    "import numpy as np\n",
    "import cv2\n",
    "import pickle\n",
    "    \n",
    "face_cascade=cv2.CascadeClassifier('Cascades\\haarcascade_frontalface_default.xml')\n",
    "cap=cv2.VideoCapture(0) #Capture image from default camera\n",
    "cap.set(3, 640) # set video widht\n",
    "cap.set(4, 480) # set video height\n",
    "\n",
    "# Define min window size to be recognized as a face\n",
    "minW = 0.1*cap.get(3)\n",
    "minH = 0.1*cap.get(4)\n",
    "\n",
    "recognizer=cv2.face.LBPHFaceRecognizer_create()\n",
    "recognizer.read(\"trainer.yml\")\n",
    "\n",
    "labels={}\n",
    "with open(\"labels.pickle\",'rb') as f:\n",
    "    labels=pickle.load(f)\n",
    "    labels={v:k for k,v in labels.items()}\n",
    "\n",
    "#While loop for streaming the data\n",
    "while (cap.isOpened()):\n",
    "    ret, frame = cap.read() \n",
    "    \n",
    "    gray = cv2.cvtColor(frame, cv2.COLOR_BGR2GRAY) #converting to grayscale\n",
    "    faces=face_cascade.detectMultiScale(gray,scaleFactor=1.5,minNeighbors=5,minSize = (int(minW), int(minH)),)\n",
    "    \n",
    "    for (x,y,w,h) in faces:\n",
    "        #print(x,y,w,h)\n",
    "        roi_gray=gray[y:y+h, x:x+w]\n",
    "        roi_color=frame[y:y+h, x:x+w]\n",
    "        \n",
    "        id_, confidence = recognizer.predict(roi_gray)\n",
    "        # Check if confidence is less than 100 ==> \"0\" is perfect match \n",
    "        if (confidence < 100):\n",
    "            name = labels[id_]\n",
    "            confidence = \"  {0}%\".format(round(100 - confidence))\n",
    "        else:\n",
    "            name = \"unknown\"\n",
    "            confidence = \"  {0}%\".format(round(100 - confidence))\n",
    "            \n",
    "        font=cv2.FONT_HERSHEY_SIMPLEX\n",
    "        cv2.putText(frame, name, (x+5,y-5), font, 1, (255,255,255), 2)\n",
    "        cv2.putText(frame, str(confidence), (x+5,y+h-5), font, 1, (255,255,0), 1)\n",
    "        cv2.rectangle(frame, (x,y), (x+w,y+h), (128,0,128), 2)\n",
    "        \n",
    "    cv2.imshow('frame',frame)\n",
    "        \n",
    "    if cv2.waitKey(20) & 0xFF == 27: #Press ESC to quit\n",
    "        break\n",
    "\n",
    "cap.release()\n",
    "cv2.destroyAllWindows()"
   ]
  },
  {
   "cell_type": "code",
   "execution_count": null,
   "metadata": {},
   "outputs": [],
   "source": [
    "#References\n",
    "#[1] CodingEntrepreneurs, YouTube, 11-Apr-2018. [Online]. Available: https://www.youtube.com/watch?v=PmZ29Vta7Vc&list=WL&index=35&t=0s.\n",
    "#[2] https://www.hackster.io/mjrobot/real-time-face-recognition-an-end-to-end-project-a10826"
   ]
  }
 ],
 "metadata": {
  "kernelspec": {
   "display_name": "Python 3",
   "language": "python",
   "name": "python3"
  },
  "language_info": {
   "codemirror_mode": {
    "name": "ipython",
    "version": 3
   },
   "file_extension": ".py",
   "mimetype": "text/x-python",
   "name": "python",
   "nbconvert_exporter": "python",
   "pygments_lexer": "ipython3",
   "version": "3.7.1"
  }
 },
 "nbformat": 4,
 "nbformat_minor": 2
}
