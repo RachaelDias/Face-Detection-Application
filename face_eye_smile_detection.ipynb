{
 "cells": [
  {
   "cell_type": "code",
   "execution_count": 1,
   "metadata": {},
   "outputs": [],
   "source": [
    "import cv2\n",
    "\n",
    "#loading the haarcascade classifiers for facial recognition\n",
    "face_cascade=cv2.CascadeClassifier('Cascades\\haarcascade_frontalface_default.xml')\n",
    "eyeCascade = cv2.CascadeClassifier('Cascades\\haarcascade_eye.xml')\n",
    "smileCascade = cv2.CascadeClassifier('Cascades\\haarcascade_smile.xml')\n",
    "\n",
    "#Capture image from default camera\n",
    "cap=cv2.VideoCapture(0) \n",
    "\n",
    "#While loop for streaming the data\n",
    "while (cap.isOpened()):\n",
    "    ret, frame = cap.read() \n",
    "    gray = cv2.cvtColor(frame, cv2.COLOR_BGR2GRAY) #converting to grayscale\n",
    "    #applying the classifier to detect faces\n",
    "    faces=face_cascade.detectMultiScale(gray,scaleFactor=1.5,minNeighbors=5,minSize=(20, 20))\n",
    "    \n",
    "    for (x,y,w,h) in faces:\n",
    "        #detect region of interest in grayscale\n",
    "        roi_gray=gray[y:y+h, x:x+w]\n",
    "        #detect region of interest in colour\n",
    "        roi_color=frame[y:y+h, x:x+w]\n",
    "        cv2.rectangle(frame, (x, y), (x+w, y+h), (255, 0, 0), 2)\n",
    "        \n",
    "        #applying the classifier to detect eyes in the gray region of interest\n",
    "        eyes = eyeCascade.detectMultiScale(roi_gray,scaleFactor= 1.5,minNeighbors=5,minSize=(5, 5),)\n",
    "        \n",
    "        for (ex, ey, ew, eh) in eyes:\n",
    "            #printing a rectangle around the eyes\n",
    "            cv2.rectangle(roi_color, (ex, ey), (ex + ew, ey + eh), (0, 255, 0), 2)\n",
    "\n",
    "        #applying the classifier to detect smile in the gray region of interest\n",
    "        smile = smileCascade.detectMultiScale(roi_gray,scaleFactor= 1.5,minNeighbors=15,minSize=(25, 25),)\n",
    "        \n",
    "        for (xx, yy, ww, hh) in smile:\n",
    "            #printing a rectangle around the smile\n",
    "            cv2.rectangle(roi_color, (xx, yy), (xx + ww, yy + hh), (0, 255, 0), 2)\n",
    "               \n",
    "    #print the frame    \n",
    "    cv2.imshow('frame',frame)\n",
    "    \n",
    "    if cv2.waitKey(20) & 0xFF == 27:\n",
    "        break\n",
    "\n",
    "cap.release()\n",
    "cv2.destroyAllWindows()"
   ]
  },
  {
   "cell_type": "code",
   "execution_count": null,
   "metadata": {},
   "outputs": [],
   "source": [
    "import cv2\n",
    "print(cv2.__file__)"
   ]
  },
  {
   "cell_type": "code",
   "execution_count": null,
   "metadata": {},
   "outputs": [],
   "source": [
    "#References\n",
    "#[1] CodingEntrepreneurs, YouTube, 11-Apr-2018. [Online]. Available: https://www.youtube.com/watch?v=PmZ29Vta7Vc&list=WL&index=35&t=0s.\n",
    "#[2] https://www.hackster.io/mjrobot/real-time-face-recognition-an-end-to-end-project-a10826"
   ]
  }
 ],
 "metadata": {
  "kernelspec": {
   "display_name": "Python 3",
   "language": "python",
   "name": "python3"
  },
  "language_info": {
   "codemirror_mode": {
    "name": "ipython",
    "version": 3
   },
   "file_extension": ".py",
   "mimetype": "text/x-python",
   "name": "python",
   "nbconvert_exporter": "python",
   "pygments_lexer": "ipython3",
   "version": "3.7.1"
  }
 },
 "nbformat": 4,
 "nbformat_minor": 2
}
